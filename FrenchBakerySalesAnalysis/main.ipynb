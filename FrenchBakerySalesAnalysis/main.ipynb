{
 "cells": [
  {
   "cell_type": "code",
   "execution_count": 49,
   "metadata": {},
   "outputs": [],
   "source": [
    "import pandas as pd\n",
    "pd.set_option('display.max_rows', 300)\n",
    "import matplotlib.pyplot as plt"
   ]
  },
  {
   "cell_type": "code",
   "execution_count": 2,
   "metadata": {},
   "outputs": [],
   "source": [
    "bkrydf = pd.read_csv('frenchbakerydata.csv')"
   ]
  },
  {
   "cell_type": "code",
   "execution_count": 4,
   "metadata": {},
   "outputs": [
    {
     "data": {
      "text/html": [
       "<div>\n",
       "<style scoped>\n",
       "    .dataframe tbody tr th:only-of-type {\n",
       "        vertical-align: middle;\n",
       "    }\n",
       "\n",
       "    .dataframe tbody tr th {\n",
       "        vertical-align: top;\n",
       "    }\n",
       "\n",
       "    .dataframe thead th {\n",
       "        text-align: right;\n",
       "    }\n",
       "</style>\n",
       "<table border=\"1\" class=\"dataframe\">\n",
       "  <thead>\n",
       "    <tr style=\"text-align: right;\">\n",
       "      <th></th>\n",
       "      <th>Unnamed: 0</th>\n",
       "      <th>date</th>\n",
       "      <th>time</th>\n",
       "      <th>ticket_number</th>\n",
       "      <th>article</th>\n",
       "      <th>Quantity</th>\n",
       "      <th>unit_price</th>\n",
       "    </tr>\n",
       "  </thead>\n",
       "  <tbody>\n",
       "    <tr>\n",
       "      <th>234000</th>\n",
       "      <td>511387</td>\n",
       "      <td>30/09/2022</td>\n",
       "      <td>18:52</td>\n",
       "      <td>288911</td>\n",
       "      <td>COUPE</td>\n",
       "      <td>1</td>\n",
       "      <td>0,15 €</td>\n",
       "    </tr>\n",
       "    <tr>\n",
       "      <th>234001</th>\n",
       "      <td>511388</td>\n",
       "      <td>30/09/2022</td>\n",
       "      <td>18:52</td>\n",
       "      <td>288911</td>\n",
       "      <td>BOULE 200G</td>\n",
       "      <td>1</td>\n",
       "      <td>1,20 €</td>\n",
       "    </tr>\n",
       "    <tr>\n",
       "      <th>234002</th>\n",
       "      <td>511389</td>\n",
       "      <td>30/09/2022</td>\n",
       "      <td>18:52</td>\n",
       "      <td>288911</td>\n",
       "      <td>COUPE</td>\n",
       "      <td>2</td>\n",
       "      <td>0,15 €</td>\n",
       "    </tr>\n",
       "    <tr>\n",
       "      <th>234003</th>\n",
       "      <td>511392</td>\n",
       "      <td>30/09/2022</td>\n",
       "      <td>18:55</td>\n",
       "      <td>288912</td>\n",
       "      <td>TRADITIONAL BAGUETTE</td>\n",
       "      <td>1</td>\n",
       "      <td>1,30 €</td>\n",
       "    </tr>\n",
       "    <tr>\n",
       "      <th>234004</th>\n",
       "      <td>511395</td>\n",
       "      <td>30/09/2022</td>\n",
       "      <td>18:56</td>\n",
       "      <td>288913</td>\n",
       "      <td>TRADITIONAL BAGUETTE</td>\n",
       "      <td>1</td>\n",
       "      <td>1,30 €</td>\n",
       "    </tr>\n",
       "  </tbody>\n",
       "</table>\n",
       "</div>"
      ],
      "text/plain": [
       "        Unnamed: 0        date   time  ticket_number               article  \\\n",
       "234000      511387  30/09/2022  18:52         288911                 COUPE   \n",
       "234001      511388  30/09/2022  18:52         288911            BOULE 200G   \n",
       "234002      511389  30/09/2022  18:52         288911                 COUPE   \n",
       "234003      511392  30/09/2022  18:55         288912  TRADITIONAL BAGUETTE   \n",
       "234004      511395  30/09/2022  18:56         288913  TRADITIONAL BAGUETTE   \n",
       "\n",
       "        Quantity unit_price  \n",
       "234000         1     0,15 €  \n",
       "234001         1     1,20 €  \n",
       "234002         2     0,15 €  \n",
       "234003         1     1,30 €  \n",
       "234004         1     1,30 €  "
      ]
     },
     "execution_count": 4,
     "metadata": {},
     "output_type": "execute_result"
    }
   ],
   "source": [
    "bkrydf.tail()"
   ]
  },
  {
   "cell_type": "code",
   "execution_count": 6,
   "metadata": {},
   "outputs": [
    {
     "data": {
      "text/plain": [
       "Unnamed: 0        int64\n",
       "date             object\n",
       "time             object\n",
       "ticket_number     int64\n",
       "article          object\n",
       "Quantity          int64\n",
       "unit_price       object\n",
       "dtype: object"
      ]
     },
     "execution_count": 6,
     "metadata": {},
     "output_type": "execute_result"
    }
   ],
   "source": [
    "bkrydf.dtypes"
   ]
  },
  {
   "cell_type": "code",
   "execution_count": 9,
   "metadata": {},
   "outputs": [
    {
     "data": {
      "text/html": [
       "<div>\n",
       "<style scoped>\n",
       "    .dataframe tbody tr th:only-of-type {\n",
       "        vertical-align: middle;\n",
       "    }\n",
       "\n",
       "    .dataframe tbody tr th {\n",
       "        vertical-align: top;\n",
       "    }\n",
       "\n",
       "    .dataframe thead th {\n",
       "        text-align: right;\n",
       "    }\n",
       "</style>\n",
       "<table border=\"1\" class=\"dataframe\">\n",
       "  <thead>\n",
       "    <tr style=\"text-align: right;\">\n",
       "      <th></th>\n",
       "      <th>Unnamed: 0</th>\n",
       "      <th>ticket_number</th>\n",
       "      <th>Quantity</th>\n",
       "    </tr>\n",
       "  </thead>\n",
       "  <tbody>\n",
       "    <tr>\n",
       "      <th>count</th>\n",
       "      <td>234005.000000</td>\n",
       "      <td>234005.000000</td>\n",
       "      <td>234005.000000</td>\n",
       "    </tr>\n",
       "    <tr>\n",
       "      <th>mean</th>\n",
       "      <td>255205.035854</td>\n",
       "      <td>219201.258738</td>\n",
       "      <td>1.538377</td>\n",
       "    </tr>\n",
       "    <tr>\n",
       "      <th>std</th>\n",
       "      <td>147501.625992</td>\n",
       "      <td>40053.223896</td>\n",
       "      <td>1.289603</td>\n",
       "    </tr>\n",
       "    <tr>\n",
       "      <th>min</th>\n",
       "      <td>0.000000</td>\n",
       "      <td>150040.000000</td>\n",
       "      <td>-200.000000</td>\n",
       "    </tr>\n",
       "    <tr>\n",
       "      <th>25%</th>\n",
       "      <td>127979.000000</td>\n",
       "      <td>184754.000000</td>\n",
       "      <td>1.000000</td>\n",
       "    </tr>\n",
       "    <tr>\n",
       "      <th>50%</th>\n",
       "      <td>254573.000000</td>\n",
       "      <td>218807.000000</td>\n",
       "      <td>1.000000</td>\n",
       "    </tr>\n",
       "    <tr>\n",
       "      <th>75%</th>\n",
       "      <td>382911.000000</td>\n",
       "      <td>253927.000000</td>\n",
       "      <td>2.000000</td>\n",
       "    </tr>\n",
       "    <tr>\n",
       "      <th>max</th>\n",
       "      <td>511395.000000</td>\n",
       "      <td>288913.000000</td>\n",
       "      <td>200.000000</td>\n",
       "    </tr>\n",
       "  </tbody>\n",
       "</table>\n",
       "</div>"
      ],
      "text/plain": [
       "          Unnamed: 0  ticket_number       Quantity\n",
       "count  234005.000000  234005.000000  234005.000000\n",
       "mean   255205.035854  219201.258738       1.538377\n",
       "std    147501.625992   40053.223896       1.289603\n",
       "min         0.000000  150040.000000    -200.000000\n",
       "25%    127979.000000  184754.000000       1.000000\n",
       "50%    254573.000000  218807.000000       1.000000\n",
       "75%    382911.000000  253927.000000       2.000000\n",
       "max    511395.000000  288913.000000     200.000000"
      ]
     },
     "execution_count": 9,
     "metadata": {},
     "output_type": "execute_result"
    }
   ],
   "source": [
    "bkrydf.describe()"
   ]
  },
  {
   "cell_type": "code",
   "execution_count": 11,
   "metadata": {},
   "outputs": [
    {
     "name": "stdout",
     "output_type": "stream",
     "text": [
      "<class 'pandas.core.frame.DataFrame'>\n",
      "RangeIndex: 234005 entries, 0 to 234004\n",
      "Data columns (total 7 columns):\n",
      " #   Column         Non-Null Count   Dtype \n",
      "---  ------         --------------   ----- \n",
      " 0   Unnamed: 0     234005 non-null  int64 \n",
      " 1   date           234005 non-null  object\n",
      " 2   time           234005 non-null  object\n",
      " 3   ticket_number  234005 non-null  int64 \n",
      " 4   article        234005 non-null  object\n",
      " 5   Quantity       234005 non-null  int64 \n",
      " 6   unit_price     234005 non-null  object\n",
      "dtypes: int64(3), object(4)\n",
      "memory usage: 12.5+ MB\n"
     ]
    }
   ],
   "source": [
    "bkrydf.info()\n"
   ]
  },
  {
   "cell_type": "code",
   "execution_count": 12,
   "metadata": {},
   "outputs": [],
   "source": [
    "missing_values = bkrydf.isnull().sum()"
   ]
  },
  {
   "cell_type": "code",
   "execution_count": 13,
   "metadata": {},
   "outputs": [
    {
     "name": "stdout",
     "output_type": "stream",
     "text": [
      "Unnamed: 0       0\n",
      "date             0\n",
      "time             0\n",
      "ticket_number    0\n",
      "article          0\n",
      "Quantity         0\n",
      "unit_price       0\n",
      "dtype: int64\n"
     ]
    }
   ],
   "source": [
    "print(missing_values)"
   ]
  },
  {
   "cell_type": "code",
   "execution_count": 14,
   "metadata": {},
   "outputs": [
    {
     "name": "stdout",
     "output_type": "stream",
     "text": [
      "<bound method NDFrame.head of         Unnamed: 0        date   time  ticket_number               article  \\\n",
      "0                0  02/01/2021  08:38         150040              BAGUETTE   \n",
      "1                1  02/01/2021  08:38         150040      PAIN AU CHOCOLAT   \n",
      "2                4  02/01/2021  09:14         150041      PAIN AU CHOCOLAT   \n",
      "3                5  02/01/2021  09:14         150041                  PAIN   \n",
      "4                8  02/01/2021  09:25         150042  TRADITIONAL BAGUETTE   \n",
      "...            ...         ...    ...            ...                   ...   \n",
      "234000      511387  30/09/2022  18:52         288911                 COUPE   \n",
      "234001      511388  30/09/2022  18:52         288911            BOULE 200G   \n",
      "234002      511389  30/09/2022  18:52         288911                 COUPE   \n",
      "234003      511392  30/09/2022  18:55         288912  TRADITIONAL BAGUETTE   \n",
      "234004      511395  30/09/2022  18:56         288913  TRADITIONAL BAGUETTE   \n",
      "\n",
      "        Quantity unit_price  \n",
      "0              1     0,90 €  \n",
      "1              3     1,20 €  \n",
      "2              2     1,20 €  \n",
      "3              1     1,15 €  \n",
      "4              5     1,20 €  \n",
      "...          ...        ...  \n",
      "234000         1     0,15 €  \n",
      "234001         1     1,20 €  \n",
      "234002         2     0,15 €  \n",
      "234003         1     1,30 €  \n",
      "234004         1     1,30 €  \n",
      "\n",
      "[234005 rows x 7 columns]>\n"
     ]
    }
   ],
   "source": [
    "print(bkrydf.head)"
   ]
  },
  {
   "cell_type": "code",
   "execution_count": 17,
   "metadata": {},
   "outputs": [
    {
     "name": "stdout",
     "output_type": "stream",
     "text": [
      "          Unnamed: 0  ticket_number       Quantity\n",
      "count  232710.000000  232710.000000  232710.000000\n",
      "mean   255097.933935  219172.127279       1.556396\n",
      "std    147552.040205   40066.965891       1.197990\n",
      "min         0.000000  150040.000000       1.000000\n",
      "25%    127873.750000  184727.250000       1.000000\n",
      "50%    254083.500000  218674.500000       1.000000\n",
      "75%    383068.250000  253972.750000       2.000000\n",
      "max    511395.000000  288913.000000     200.000000\n"
     ]
    }
   ],
   "source": [
    "bkrydf=bkrydf[bkrydf['Quantity'] >= 0]\n",
    "print(bkrydf.describe())"
   ]
  },
  {
   "cell_type": "code",
   "execution_count": 18,
   "metadata": {},
   "outputs": [],
   "source": [
    "# deleting first unnamed column\n",
    "bkrydf = bkrydf.iloc[:, 1:]"
   ]
  },
  {
   "cell_type": "code",
   "execution_count": 19,
   "metadata": {},
   "outputs": [
    {
     "data": {
      "text/plain": [
       "149"
      ]
     },
     "execution_count": 19,
     "metadata": {},
     "output_type": "execute_result"
    }
   ],
   "source": [
    "# Lets check how many unique articles the bakery is selling\n",
    "len(bkrydf.article.unique())"
   ]
  },
  {
   "cell_type": "code",
   "execution_count": 20,
   "metadata": {},
   "outputs": [
    {
     "data": {
      "text/html": [
       "<div>\n",
       "<style scoped>\n",
       "    .dataframe tbody tr th:only-of-type {\n",
       "        vertical-align: middle;\n",
       "    }\n",
       "\n",
       "    .dataframe tbody tr th {\n",
       "        vertical-align: top;\n",
       "    }\n",
       "\n",
       "    .dataframe thead th {\n",
       "        text-align: right;\n",
       "    }\n",
       "</style>\n",
       "<table border=\"1\" class=\"dataframe\">\n",
       "  <thead>\n",
       "    <tr style=\"text-align: right;\">\n",
       "      <th></th>\n",
       "      <th>date</th>\n",
       "      <th>time</th>\n",
       "      <th>ticket_number</th>\n",
       "      <th>article</th>\n",
       "      <th>Quantity</th>\n",
       "      <th>unit_price</th>\n",
       "    </tr>\n",
       "  </thead>\n",
       "  <tbody>\n",
       "    <tr>\n",
       "      <th>62799</th>\n",
       "      <td>12/07/2021</td>\n",
       "      <td>08:25</td>\n",
       "      <td>187148</td>\n",
       "      <td>PLATPREPARE6,50</td>\n",
       "      <td>1</td>\n",
       "      <td>0,00 €</td>\n",
       "    </tr>\n",
       "    <tr>\n",
       "      <th>63036</th>\n",
       "      <td>12/07/2021</td>\n",
       "      <td>11:30</td>\n",
       "      <td>187296</td>\n",
       "      <td>PLATPREPARE6,50</td>\n",
       "      <td>2</td>\n",
       "      <td>6,50 €</td>\n",
       "    </tr>\n",
       "    <tr>\n",
       "      <th>63037</th>\n",
       "      <td>12/07/2021</td>\n",
       "      <td>11:30</td>\n",
       "      <td>187296</td>\n",
       "      <td>PLATPREPARE5,50</td>\n",
       "      <td>1</td>\n",
       "      <td>5,50 €</td>\n",
       "    </tr>\n",
       "    <tr>\n",
       "      <th>63078</th>\n",
       "      <td>12/07/2021</td>\n",
       "      <td>11:52</td>\n",
       "      <td>187322</td>\n",
       "      <td>PLATPREPARE7,00</td>\n",
       "      <td>3</td>\n",
       "      <td>7,00 €</td>\n",
       "    </tr>\n",
       "    <tr>\n",
       "      <th>63555</th>\n",
       "      <td>13/07/2021</td>\n",
       "      <td>10:35</td>\n",
       "      <td>187606</td>\n",
       "      <td>PLATPREPARE7,00</td>\n",
       "      <td>4</td>\n",
       "      <td>7,00 €</td>\n",
       "    </tr>\n",
       "    <tr>\n",
       "      <th>...</th>\n",
       "      <td>...</td>\n",
       "      <td>...</td>\n",
       "      <td>...</td>\n",
       "      <td>...</td>\n",
       "      <td>...</td>\n",
       "      <td>...</td>\n",
       "    </tr>\n",
       "    <tr>\n",
       "      <th>233796</th>\n",
       "      <td>30/09/2022</td>\n",
       "      <td>10:50</td>\n",
       "      <td>288790</td>\n",
       "      <td>PLAT 7.60E</td>\n",
       "      <td>1</td>\n",
       "      <td>7,60 €</td>\n",
       "    </tr>\n",
       "    <tr>\n",
       "      <th>233817</th>\n",
       "      <td>30/09/2022</td>\n",
       "      <td>11:09</td>\n",
       "      <td>288801</td>\n",
       "      <td>PLAT 7.60E</td>\n",
       "      <td>1</td>\n",
       "      <td>7,60 €</td>\n",
       "    </tr>\n",
       "    <tr>\n",
       "      <th>233888</th>\n",
       "      <td>30/09/2022</td>\n",
       "      <td>12:19</td>\n",
       "      <td>288845</td>\n",
       "      <td>PLAT 8.30E</td>\n",
       "      <td>1</td>\n",
       "      <td>8,30 €</td>\n",
       "    </tr>\n",
       "    <tr>\n",
       "      <th>233889</th>\n",
       "      <td>30/09/2022</td>\n",
       "      <td>12:19</td>\n",
       "      <td>288845</td>\n",
       "      <td>PLAT 7.60E</td>\n",
       "      <td>1</td>\n",
       "      <td>7,60 €</td>\n",
       "    </tr>\n",
       "    <tr>\n",
       "      <th>233921</th>\n",
       "      <td>30/09/2022</td>\n",
       "      <td>12:57</td>\n",
       "      <td>288864</td>\n",
       "      <td>PLAT 7.60E</td>\n",
       "      <td>1</td>\n",
       "      <td>7,60 €</td>\n",
       "    </tr>\n",
       "  </tbody>\n",
       "</table>\n",
       "<p>476 rows × 6 columns</p>\n",
       "</div>"
      ],
      "text/plain": [
       "              date   time  ticket_number          article  Quantity unit_price\n",
       "62799   12/07/2021  08:25         187148  PLATPREPARE6,50         1     0,00 €\n",
       "63036   12/07/2021  11:30         187296  PLATPREPARE6,50         2     6,50 €\n",
       "63037   12/07/2021  11:30         187296  PLATPREPARE5,50         1     5,50 €\n",
       "63078   12/07/2021  11:52         187322  PLATPREPARE7,00         3     7,00 €\n",
       "63555   13/07/2021  10:35         187606  PLATPREPARE7,00         4     7,00 €\n",
       "...            ...    ...            ...              ...       ...        ...\n",
       "233796  30/09/2022  10:50         288790       PLAT 7.60E         1     7,60 €\n",
       "233817  30/09/2022  11:09         288801       PLAT 7.60E         1     7,60 €\n",
       "233888  30/09/2022  12:19         288845       PLAT 8.30E         1     8,30 €\n",
       "233889  30/09/2022  12:19         288845       PLAT 7.60E         1     7,60 €\n",
       "233921  30/09/2022  12:57         288864       PLAT 7.60E         1     7,60 €\n",
       "\n",
       "[476 rows x 6 columns]"
      ]
     },
     "execution_count": 20,
     "metadata": {},
     "output_type": "execute_result"
    }
   ],
   "source": [
    "# Showing rows which article starts with 'Plat'  \n",
    "bkrydf[bkrydf.article.str.startswith('PLAT')]"
   ]
  },
  {
   "cell_type": "code",
   "execution_count": 21,
   "metadata": {},
   "outputs": [
    {
     "data": {
      "text/plain": [
       "array(['PLATPREPARE6,50', 'PLATPREPARE5,50', 'PLATPREPARE7,00',\n",
       "       'PLATPREPARE6,00', 'PLAT 6.50E', 'PLAT 7.60E', 'PLAT 7.00', 'PLAT',\n",
       "       'PLAT 8.30E'], dtype=object)"
      ]
     },
     "execution_count": 21,
     "metadata": {},
     "output_type": "execute_result"
    }
   ],
   "source": [
    "# Checking how many unique articles starts with 'PLAT' \n",
    "bkrydf[bkrydf.article.str.startswith('PLAT')]['article'].unique()"
   ]
  },
  {
   "cell_type": "code",
   "execution_count": 23,
   "metadata": {},
   "outputs": [],
   "source": [
    "# cleaning up unit_price feature to remove 'Euro' sign and change comma to dots\n",
    "\n",
    "# Splitting the string and selecting first element\n",
    "\n",
    "price = bkrydf['unit_price'].str.replace(' €', '')\n",
    "bkrydf['unit_price'] = price.replace(',', '.', regex=True).astype('float')"
   ]
  },
  {
   "cell_type": "code",
   "execution_count": 24,
   "metadata": {},
   "outputs": [
    {
     "data": {
      "text/html": [
       "<div>\n",
       "<style scoped>\n",
       "    .dataframe tbody tr th:only-of-type {\n",
       "        vertical-align: middle;\n",
       "    }\n",
       "\n",
       "    .dataframe tbody tr th {\n",
       "        vertical-align: top;\n",
       "    }\n",
       "\n",
       "    .dataframe thead th {\n",
       "        text-align: right;\n",
       "    }\n",
       "</style>\n",
       "<table border=\"1\" class=\"dataframe\">\n",
       "  <thead>\n",
       "    <tr style=\"text-align: right;\">\n",
       "      <th></th>\n",
       "      <th>date</th>\n",
       "      <th>time</th>\n",
       "      <th>ticket_number</th>\n",
       "      <th>article</th>\n",
       "      <th>Quantity</th>\n",
       "      <th>unit_price</th>\n",
       "    </tr>\n",
       "  </thead>\n",
       "  <tbody>\n",
       "    <tr>\n",
       "      <th>0</th>\n",
       "      <td>02/01/2021</td>\n",
       "      <td>08:38</td>\n",
       "      <td>150040</td>\n",
       "      <td>BAGUETTE</td>\n",
       "      <td>1</td>\n",
       "      <td>0.9</td>\n",
       "    </tr>\n",
       "    <tr>\n",
       "      <th>1</th>\n",
       "      <td>02/01/2021</td>\n",
       "      <td>08:38</td>\n",
       "      <td>150040</td>\n",
       "      <td>PAIN AU CHOCOLAT</td>\n",
       "      <td>3</td>\n",
       "      <td>1.2</td>\n",
       "    </tr>\n",
       "    <tr>\n",
       "      <th>2</th>\n",
       "      <td>02/01/2021</td>\n",
       "      <td>09:14</td>\n",
       "      <td>150041</td>\n",
       "      <td>PAIN AU CHOCOLAT</td>\n",
       "      <td>2</td>\n",
       "      <td>1.2</td>\n",
       "    </tr>\n",
       "  </tbody>\n",
       "</table>\n",
       "</div>"
      ],
      "text/plain": [
       "         date   time  ticket_number           article  Quantity  unit_price\n",
       "0  02/01/2021  08:38         150040          BAGUETTE         1         0.9\n",
       "1  02/01/2021  08:38         150040  PAIN AU CHOCOLAT         3         1.2\n",
       "2  02/01/2021  09:14         150041  PAIN AU CHOCOLAT         2         1.2"
      ]
     },
     "execution_count": 24,
     "metadata": {},
     "output_type": "execute_result"
    }
   ],
   "source": [
    "bkrydf.head(3)"
   ]
  },
  {
   "cell_type": "code",
   "execution_count": 26,
   "metadata": {},
   "outputs": [],
   "source": [
    "# Adding revenue column\n",
    "\n",
    "bkrydf['revenue'] = bkrydf['Quantity'] * bkrydf['unit_price']"
   ]
  },
  {
   "cell_type": "code",
   "execution_count": 27,
   "metadata": {},
   "outputs": [
    {
     "data": {
      "text/html": [
       "<div>\n",
       "<style scoped>\n",
       "    .dataframe tbody tr th:only-of-type {\n",
       "        vertical-align: middle;\n",
       "    }\n",
       "\n",
       "    .dataframe tbody tr th {\n",
       "        vertical-align: top;\n",
       "    }\n",
       "\n",
       "    .dataframe thead th {\n",
       "        text-align: right;\n",
       "    }\n",
       "</style>\n",
       "<table border=\"1\" class=\"dataframe\">\n",
       "  <thead>\n",
       "    <tr style=\"text-align: right;\">\n",
       "      <th></th>\n",
       "      <th>date</th>\n",
       "      <th>time</th>\n",
       "      <th>ticket_number</th>\n",
       "      <th>article</th>\n",
       "      <th>Quantity</th>\n",
       "      <th>unit_price</th>\n",
       "      <th>revenue</th>\n",
       "    </tr>\n",
       "  </thead>\n",
       "  <tbody>\n",
       "    <tr>\n",
       "      <th>0</th>\n",
       "      <td>02/01/2021</td>\n",
       "      <td>08:38</td>\n",
       "      <td>150040</td>\n",
       "      <td>BAGUETTE</td>\n",
       "      <td>1</td>\n",
       "      <td>0.9</td>\n",
       "      <td>0.9</td>\n",
       "    </tr>\n",
       "    <tr>\n",
       "      <th>1</th>\n",
       "      <td>02/01/2021</td>\n",
       "      <td>08:38</td>\n",
       "      <td>150040</td>\n",
       "      <td>PAIN AU CHOCOLAT</td>\n",
       "      <td>3</td>\n",
       "      <td>1.2</td>\n",
       "      <td>3.6</td>\n",
       "    </tr>\n",
       "    <tr>\n",
       "      <th>2</th>\n",
       "      <td>02/01/2021</td>\n",
       "      <td>09:14</td>\n",
       "      <td>150041</td>\n",
       "      <td>PAIN AU CHOCOLAT</td>\n",
       "      <td>2</td>\n",
       "      <td>1.2</td>\n",
       "      <td>2.4</td>\n",
       "    </tr>\n",
       "  </tbody>\n",
       "</table>\n",
       "</div>"
      ],
      "text/plain": [
       "         date   time  ticket_number           article  Quantity  unit_price  \\\n",
       "0  02/01/2021  08:38         150040          BAGUETTE         1         0.9   \n",
       "1  02/01/2021  08:38         150040  PAIN AU CHOCOLAT         3         1.2   \n",
       "2  02/01/2021  09:14         150041  PAIN AU CHOCOLAT         2         1.2   \n",
       "\n",
       "   revenue  \n",
       "0      0.9  \n",
       "1      3.6  \n",
       "2      2.4  "
      ]
     },
     "execution_count": 27,
     "metadata": {},
     "output_type": "execute_result"
    }
   ],
   "source": [
    "bkrydf.head(3)"
   ]
  },
  {
   "cell_type": "code",
   "execution_count": 43,
   "metadata": {},
   "outputs": [],
   "source": [
    "# check articles with lowest sales \n",
    "bkry_low_sales_art = bkrydf.groupby('article').sum(numeric_only=True).sort_values('revenue')"
   ]
  },
  {
   "cell_type": "code",
   "execution_count": 32,
   "metadata": {},
   "outputs": [
    {
     "data": {
      "text/html": [
       "<div>\n",
       "<style scoped>\n",
       "    .dataframe tbody tr th:only-of-type {\n",
       "        vertical-align: middle;\n",
       "    }\n",
       "\n",
       "    .dataframe tbody tr th {\n",
       "        vertical-align: top;\n",
       "    }\n",
       "\n",
       "    .dataframe thead th {\n",
       "        text-align: right;\n",
       "    }\n",
       "</style>\n",
       "<table border=\"1\" class=\"dataframe\">\n",
       "  <thead>\n",
       "    <tr style=\"text-align: right;\">\n",
       "      <th></th>\n",
       "      <th>ticket_number</th>\n",
       "      <th>Quantity</th>\n",
       "      <th>unit_price</th>\n",
       "      <th>revenue</th>\n",
       "    </tr>\n",
       "    <tr>\n",
       "      <th>article</th>\n",
       "      <th></th>\n",
       "      <th></th>\n",
       "      <th></th>\n",
       "      <th></th>\n",
       "    </tr>\n",
       "  </thead>\n",
       "  <tbody>\n",
       "    <tr>\n",
       "      <th>TRADITIONAL BAGUETTE</th>\n",
       "      <td>14843612190</td>\n",
       "      <td>118093</td>\n",
       "      <td>82980.75</td>\n",
       "      <td>145533.75</td>\n",
       "    </tr>\n",
       "    <tr>\n",
       "      <th>BAGUETTE</th>\n",
       "      <td>3320439141</td>\n",
       "      <td>22156</td>\n",
       "      <td>14145.45</td>\n",
       "      <td>20578.20</td>\n",
       "    </tr>\n",
       "    <tr>\n",
       "      <th>CEREAL BAGUETTE</th>\n",
       "      <td>1057515747</td>\n",
       "      <td>7478</td>\n",
       "      <td>6293.60</td>\n",
       "      <td>9538.05</td>\n",
       "    </tr>\n",
       "    <tr>\n",
       "      <th>BAGUETTE GRAINE</th>\n",
       "      <td>323051101</td>\n",
       "      <td>1871</td>\n",
       "      <td>1986.85</td>\n",
       "      <td>2481.20</td>\n",
       "    </tr>\n",
       "    <tr>\n",
       "      <th>DEMI BAGUETTE</th>\n",
       "      <td>250546664</td>\n",
       "      <td>1146</td>\n",
       "      <td>537.60</td>\n",
       "      <td>538.95</td>\n",
       "    </tr>\n",
       "    <tr>\n",
       "      <th>BAGUETTE APERO</th>\n",
       "      <td>14289252</td>\n",
       "      <td>69</td>\n",
       "      <td>297.00</td>\n",
       "      <td>310.50</td>\n",
       "    </tr>\n",
       "  </tbody>\n",
       "</table>\n",
       "</div>"
      ],
      "text/plain": [
       "                      ticket_number  Quantity  unit_price    revenue\n",
       "article                                                             \n",
       "TRADITIONAL BAGUETTE    14843612190    118093    82980.75  145533.75\n",
       "BAGUETTE                 3320439141     22156    14145.45   20578.20\n",
       "CEREAL BAGUETTE          1057515747      7478     6293.60    9538.05\n",
       "BAGUETTE GRAINE           323051101      1871     1986.85    2481.20\n",
       "DEMI BAGUETTE             250546664      1146      537.60     538.95\n",
       "BAGUETTE APERO             14289252        69      297.00     310.50"
      ]
     },
     "execution_count": 32,
     "metadata": {},
     "output_type": "execute_result"
    }
   ],
   "source": [
    "# Finding out the most valuable baguette\n",
    "(bkrydf[bkrydf.article.str.contains('BAGU')].groupby('article').sum(numeric_only=True).sort_values('Quantity', ascending=False))"
   ]
  },
  {
   "cell_type": "code",
   "execution_count": 38,
   "metadata": {},
   "outputs": [
    {
     "name": "stderr",
     "output_type": "stream",
     "text": [
      "C:\\Users\\Maria Guevara\\AppData\\Local\\Temp\\ipykernel_2064\\3236915878.py:1: UserWarning: Parsing dates in DD/MM/YYYY format when dayfirst=False (the default) was specified. This may lead to inconsistently parsed dates! Specify a format to ensure consistent parsing.\n",
      "  bkrydf['date'] = pd.to_datetime(bkrydf['date'])\n"
     ]
    }
   ],
   "source": [
    "bkrydf['date'] = pd.to_datetime(bkrydf['date'])"
   ]
  },
  {
   "cell_type": "code",
   "execution_count": 39,
   "metadata": {},
   "outputs": [],
   "source": [
    "# introducing weekdays into the dataset\n",
    "bkrydf['weekday'] = pd.Categorical(bkrydf.date.dt.day_name(), ['Monday', 'Tuesday', 'Wednesday', 'Thursday', 'Friday', 'Saturday', 'Sunday'])"
   ]
  },
  {
   "cell_type": "code",
   "execution_count": 40,
   "metadata": {},
   "outputs": [],
   "source": [
    "# Now lets see how many orders were made in avg / day each week\n",
    "date_weekdays = bkrydf.drop_duplicates('date')[['date', 'weekday']]"
   ]
  },
  {
   "cell_type": "code",
   "execution_count": 44,
   "metadata": {},
   "outputs": [],
   "source": [
    "tickets_by_day = (bkrydf.drop_duplicates('ticket_number')\n",
    "                   .groupby('date')['ticket_number']\n",
    "                   .count()\n",
    "                   .reset_index()\n",
    "                   .merge(date_weekdays)\n",
    "                   .groupby('weekday')\n",
    "                   .mean('ticket_number'))\n"
   ]
  },
  {
   "cell_type": "code",
   "execution_count": 45,
   "metadata": {},
   "outputs": [
    {
     "data": {
      "text/html": [
       "<div>\n",
       "<style scoped>\n",
       "    .dataframe tbody tr th:only-of-type {\n",
       "        vertical-align: middle;\n",
       "    }\n",
       "\n",
       "    .dataframe tbody tr th {\n",
       "        vertical-align: top;\n",
       "    }\n",
       "\n",
       "    .dataframe thead th {\n",
       "        text-align: right;\n",
       "    }\n",
       "</style>\n",
       "<table border=\"1\" class=\"dataframe\">\n",
       "  <thead>\n",
       "    <tr style=\"text-align: right;\">\n",
       "      <th></th>\n",
       "      <th>ticket_number</th>\n",
       "    </tr>\n",
       "    <tr>\n",
       "      <th>weekday</th>\n",
       "      <th></th>\n",
       "    </tr>\n",
       "  </thead>\n",
       "  <tbody>\n",
       "    <tr>\n",
       "      <th>Monday</th>\n",
       "      <td>222.448276</td>\n",
       "    </tr>\n",
       "    <tr>\n",
       "      <th>Tuesday</th>\n",
       "      <td>216.069767</td>\n",
       "    </tr>\n",
       "    <tr>\n",
       "      <th>Wednesday</th>\n",
       "      <td>213.148649</td>\n",
       "    </tr>\n",
       "    <tr>\n",
       "      <th>Thursday</th>\n",
       "      <td>218.738636</td>\n",
       "    </tr>\n",
       "    <tr>\n",
       "      <th>Friday</th>\n",
       "      <td>215.233333</td>\n",
       "    </tr>\n",
       "    <tr>\n",
       "      <th>Saturday</th>\n",
       "      <td>230.431818</td>\n",
       "    </tr>\n",
       "    <tr>\n",
       "      <th>Sunday</th>\n",
       "      <td>265.287356</td>\n",
       "    </tr>\n",
       "  </tbody>\n",
       "</table>\n",
       "</div>"
      ],
      "text/plain": [
       "           ticket_number\n",
       "weekday                 \n",
       "Monday        222.448276\n",
       "Tuesday       216.069767\n",
       "Wednesday     213.148649\n",
       "Thursday      218.738636\n",
       "Friday        215.233333\n",
       "Saturday      230.431818\n",
       "Sunday        265.287356"
      ]
     },
     "execution_count": 45,
     "metadata": {},
     "output_type": "execute_result"
    }
   ],
   "source": [
    "tickets_by_day"
   ]
  },
  {
   "cell_type": "code",
   "execution_count": 46,
   "metadata": {},
   "outputs": [
    {
     "data": {
      "text/plain": [
       "<Axes: xlabel='weekday'>"
      ]
     },
     "execution_count": 46,
     "metadata": {},
     "output_type": "execute_result"
    },
    {
     "data": {
      "image/png": "[encoded data removed]",
      "text/plain": [
       "<Figure size 640x480 with 1 Axes>"
      ]
     },
     "metadata": {},
     "output_type": "display_data"
    }
   ],
   "source": [
    "tickets_by_day.plot(kind='bar')"
   ]
  },
  {
   "cell_type": "code",
   "execution_count": 50,
   "metadata": {},
   "outputs": [
    {
     "data": {
      "text/plain": [
       "article\n",
       "TRADITIONAL BAGUETTE        67349\n",
       "COUPE                       20386\n",
       "BAGUETTE                    15225\n",
       "BANETTE                     15020\n",
       "CROISSANT                   11448\n",
       "PAIN AU CHOCOLAT            10526\n",
       "SPECIAL BREAD                5164\n",
       "CEREAL BAGUETTE              4934\n",
       "FORMULE SANDWICH             4121\n",
       "BOULE 400G                   4075\n",
       "CAMPAGNE                     3895\n",
       "VIK BREAD                    3130\n",
       "COMPLET                      3129\n",
       "MOISSON                      3093\n",
       "TARTELETTE                   2844\n",
       "BANETTINE                    2806\n",
       "PAIN BANETTE                 2717\n",
       "BOULE 200G                   2679\n",
       "FICELLE                      2634\n",
       "SANDWICH COMPLET             2188\n",
       "ECLAIR                       1994\n",
       "COOKIE                       1992\n",
       "PAIN AUX RAISINS             1984\n",
       "PAIN                         1908\n",
       "CROISSANT AMANDES            1797\n",
       "BRIOCHE                      1649\n",
       "BAGUETTE GRAINE              1497\n",
       "SAND JB EMMENTAL             1488\n",
       "PAIN CHOCO AMANDES           1476\n",
       "BOISSON 33CL                 1466\n",
       "CHAUSSON AUX POMMES          1438\n",
       "CAFE OU EAU                  1427\n",
       "GRAND FAR BRETON             1369\n",
       "KOUIGN AMANN                 1327\n",
       "SEIGLE                       1327\n",
       "TRAITEUR                     1299\n",
       "QUIM BREAD                   1299\n",
       "DEMI BAGUETTE                1143\n",
       "FINANCIER X5                 1017\n",
       "PARIS BREST                   910\n",
       "GD KOUIGN AMANN               826\n",
       "FLAN                          825\n",
       "DIVERS VIENNOISERIE           818\n",
       "MILLES FEUILLES               762\n",
       "FLAN ABRICOT                  565\n",
       "SUCETTE                       525\n",
       "BOULE POLKA                   500\n",
       "DIVERS PATISSERIE             499\n",
       "SACHET VIENNOISERIE           494\n",
       "TARTELETTE FRAISE             490\n",
       "DIVERS CONFISERIE             482\n",
       "PT NANTAIS                    474\n",
       "SPECIAL BREAD KG              455\n",
       "NANTAIS                       386\n",
       "TROPEZIENNE                   357\n",
       "FRAISIER                      355\n",
       "TARTE FRUITS 4P               354\n",
       "SAVARIN                       337\n",
       "NOIX JAPONAISE                334\n",
       "DIVERS BOULANGERIE            312\n",
       "TARTE FRUITS 6P               272\n",
       "PLAT 7.60E                    239\n",
       "DIVERS SANDWICHS              235\n",
       "FONDANT CHOCOLAT              218\n",
       "CHOU CHANTILLY                206\n",
       "GAL FRANGIPANE 4P             202\n",
       "GRANDE SUCETTE                193\n",
       "VIENNOISE                     183\n",
       "ROYAL                         173\n",
       "DEMI PAIN                     163\n",
       "GD FAR BRETON                 158\n",
       "PALET BRETON                  155\n",
       "TARTE FRAISE 4PER             147\n",
       "MACARON                       131\n",
       "GACHE                         127\n",
       "PAIN S/SEL                    125\n",
       "GAL FRANGIPANE 6P             122\n",
       "TARTE FRAISE 6P               122\n",
       "PLAT 8.30E                    115\n",
       "SACHET DE CROUTON             109\n",
       "PAILLE                        105\n",
       "GAL POMME 4P                   97\n",
       "PLAT 7.00                      92\n",
       "GD NANTAIS                     88\n",
       "BOTTEREAU                      85\n",
       "DIVERS BOISSONS                84\n",
       "ST HONORE                      84\n",
       "SABLE F  P                     81\n",
       "RELIGIEUSE                     80\n",
       "CHOCOLAT                       73\n",
       "CARAMEL NOIX                   69\n",
       "TRIANGLES                      66\n",
       "BAGUETTE APERO                 66\n",
       "12 MACARON                     65\n",
       "FRAMBOISIER                    64\n",
       "ROYAL 4P                       61\n",
       "GAL POMME 6P                   61\n",
       "ROYAL 6P                       61\n",
       "TARTE FINE                     60\n",
       "MERINGUE                       51\n",
       "TARTELETTE CHOC                51\n",
       "BRIOCHETTE                     46\n",
       "DELICETROPICAL                 41\n",
       "BROWNIES                       37\n",
       "PAIN DE MIE                    31\n",
       "TROPEZIENNE FRAMBOISE          26\n",
       "ENTREMETS                      24\n",
       "GAL POIRE CHOCO 4P             24\n",
       "BRIOCHE DE NOEL                19\n",
       "PAIN SUISSE PEPITO             18\n",
       "FINANCIER                      16\n",
       "ECLAIR FRAISE PISTACHE         16\n",
       "GAL POIRE CHOCO 6P             15\n",
       "NID DE POULE                   12\n",
       "PLATPREPARE7,00                11\n",
       "BUCHE 4PERS                    10\n",
       "FORMULE PLAT PREPARE           10\n",
       "PLAT                            8\n",
       "BUCHE 6PERS                     8\n",
       "REDUCTION SUCREES 12            8\n",
       "CRUMBLE                         7\n",
       "THE                             6\n",
       "PLATPREPARE6,50                 6\n",
       ".                               5\n",
       "SAND JB                         5\n",
       "PALMIER                         5\n",
       "PLATPREPARE5,50                 3\n",
       "PAIN GRAINES                    3\n",
       "GUERANDAIS                      3\n",
       "PT PLATEAU SALE                 3\n",
       "FORMULE PATE                    2\n",
       "GALETTE 8 PERS                  2\n",
       "ARMORICAIN                      2\n",
       "TULIPE                          2\n",
       "GD PLATEAU SALE                 2\n",
       "PATES                           2\n",
       "REDUCTION SUCREES 24            1\n",
       "SACHET DE VIENNOISERIE          1\n",
       "TARTELETTE COCKTAIL             1\n",
       "PAIN NOIR                       1\n",
       "PLAT 6.50E                      1\n",
       "DOUCEUR D HIVER                 1\n",
       "CRUMBLECARAMEL OU PISTAE        1\n",
       "CAKE                            1\n",
       "TROIS CHOCOLAT                  1\n",
       "BUCHE 8PERS                     1\n",
       "ARTICLE 295                     1\n",
       "PLAQUE TARTE 25P                1\n",
       "PLATPREPARE6,00                 1\n",
       "Name: Quantity, dtype: int64"
      ]
     },
     "execution_count": 50,
     "metadata": {},
     "output_type": "execute_result"
    }
   ],
   "source": [
    "# Now lets see how much of each article was sold\n",
    "\n",
    "(bkrydf\n",
    "    .groupby(['date', 'article'])['Quantity']\n",
    "    .count()\n",
    "    .reset_index()\n",
    "    .groupby('article')['Quantity']\n",
    "    .sum()\n",
    "    .sort_values(ascending=False)\n",
    ")"
   ]
  },
  {
   "cell_type": "code",
   "execution_count": 54,
   "metadata": {},
   "outputs": [],
   "source": [
    "# Avg # of articles sold / day\n",
    "\n",
    "avg_sold_p_day = (bkrydf\n",
    "    .groupby(['date', 'article'])['Quantity']\n",
    "    .count() # sum of each article sold / day\n",
    "    .reset_index()\n",
    "    .groupby('article')['Quantity']\n",
    "    .mean()\n",
    "    .sort_values(ascending=False)\n",
    ")\n"
   ]
  },
  {
   "cell_type": "code",
   "execution_count": 53,
   "metadata": {},
   "outputs": [
    {
     "data": {
      "text/plain": [
       "article\n",
       "TRADITIONAL BAGUETTE    112.248333\n",
       "COUPE                    33.976667\n",
       "BAGUETTE                 25.375000\n",
       "BANETTE                  25.033333\n",
       "CROISSANT                19.111853\n",
       "PAIN AU CHOCOLAT         17.602007\n",
       "SPECIAL BREAD             8.635452\n",
       "VIK BREAD                 8.575342\n",
       "CEREAL BAGUETTE           8.292437\n",
       "FORMULE SANDWICH          7.589319\n",
       "Name: Quantity, dtype: float64"
      ]
     },
     "execution_count": 53,
     "metadata": {},
     "output_type": "execute_result"
    }
   ],
   "source": [
    "avg_sold_p_day[:10]"
   ]
  },
  {
   "cell_type": "code",
   "execution_count": 55,
   "metadata": {},
   "outputs": [
    {
     "data": {
      "text/plain": [
       "<Axes: xlabel='article'>"
      ]
     },
     "execution_count": 55,
     "metadata": {},
     "output_type": "execute_result"
    },
    {
     "data": {
      "image/png": "[encoded data removed]",
      "text/plain": [
       "<Figure size 640x480 with 1 Axes>"
      ]
     },
     "metadata": {},
     "output_type": "display_data"
    }
   ],
   "source": [
    "avg_sold_p_day[:10].plot(kind='bar')"
   ]
  },
  {
   "cell_type": "code",
   "execution_count": null,
   "metadata": {},
   "outputs": [],
   "source": []
  },
  {
   "cell_type": "code",
   "execution_count": null,
   "metadata": {},
   "outputs": [],
   "source": []
  },
  {
   "cell_type": "code",
   "execution_count": null,
   "metadata": {},
   "outputs": [],
   "source": []
  },
  {
   "cell_type": "code",
   "execution_count": null,
   "metadata": {},
   "outputs": [],
   "source": []
  },
  {
   "cell_type": "code",
   "execution_count": null,
   "metadata": {},
   "outputs": [],
   "source": []
  },
  {
   "cell_type": "code",
   "execution_count": null,
   "metadata": {},
   "outputs": [],
   "source": []
  },
  {
   "cell_type": "code",
   "execution_count": null,
   "metadata": {},
   "outputs": [],
   "source": []
  },
  {
   "cell_type": "code",
   "execution_count": null,
   "metadata": {},
   "outputs": [],
   "source": []
  },
  {
   "cell_type": "code",
   "execution_count": null,
   "metadata": {},
   "outputs": [],
   "source": []
  },
  {
   "cell_type": "code",
   "execution_count": null,
   "metadata": {},
   "outputs": [],
   "source": []
  },
  {
   "cell_type": "code",
   "execution_count": null,
   "metadata": {},
   "outputs": [],
   "source": []
  },
  {
   "cell_type": "code",
   "execution_count": null,
   "metadata": {},
   "outputs": [],
   "source": []
  },
  {
   "cell_type": "code",
   "execution_count": null,
   "metadata": {},
   "outputs": [],
   "source": []
  },
  {
   "cell_type": "code",
   "execution_count": null,
   "metadata": {},
   "outputs": [],
   "source": []
  },
  {
   "cell_type": "code",
   "execution_count": null,
   "metadata": {},
   "outputs": [],
   "source": []
  },
  {
   "cell_type": "code",
   "execution_count": null,
   "metadata": {},
   "outputs": [],
   "source": []
  },
  {
   "cell_type": "code",
   "execution_count": null,
   "metadata": {},
   "outputs": [],
   "source": []
  },
  {
   "cell_type": "code",
   "execution_count": null,
   "metadata": {},
   "outputs": [],
   "source": []
  },
  {
   "cell_type": "code",
   "execution_count": null,
   "metadata": {},
   "outputs": [],
   "source": []
  },
  {
   "cell_type": "code",
   "execution_count": null,
   "metadata": {},
   "outputs": [],
   "source": []
  },
  {
   "cell_type": "code",
   "execution_count": null,
   "metadata": {},
   "outputs": [],
   "source": []
  },
  {
   "cell_type": "code",
   "execution_count": null,
   "metadata": {},
   "outputs": [],
   "source": []
  },
  {
   "cell_type": "code",
   "execution_count": null,
   "metadata": {},
   "outputs": [],
   "source": []
  },
  {
   "cell_type": "code",
   "execution_count": null,
   "metadata": {},
   "outputs": [],
   "source": []
  },
  {
   "cell_type": "code",
   "execution_count": null,
   "metadata": {},
   "outputs": [],
   "source": []
  },
  {
   "cell_type": "code",
   "execution_count": null,
   "metadata": {},
   "outputs": [],
   "source": []
  },
  {
   "cell_type": "code",
   "execution_count": null,
   "metadata": {},
   "outputs": [],
   "source": []
  },
  {
   "cell_type": "code",
   "execution_count": null,
   "metadata": {},
   "outputs": [],
   "source": []
  },
  {
   "cell_type": "code",
   "execution_count": null,
   "metadata": {},
   "outputs": [],
   "source": []
  },
  {
   "cell_type": "code",
   "execution_count": null,
   "metadata": {},
   "outputs": [],
   "source": []
  },
  {
   "cell_type": "code",
   "execution_count": null,
   "metadata": {},
   "outputs": [],
   "source": []
  },
  {
   "cell_type": "code",
   "execution_count": null,
   "metadata": {},
   "outputs": [],
   "source": []
  },
  {
   "cell_type": "code",
   "execution_count": null,
   "metadata": {},
   "outputs": [],
   "source": []
  },
  {
   "cell_type": "code",
   "execution_count": null,
   "metadata": {},
   "outputs": [],
   "source": []
  },
  {
   "cell_type": "code",
   "execution_count": null,
   "metadata": {},
   "outputs": [],
   "source": []
  }
 ],
 "metadata": {
  "kernelspec": {
   "display_name": "Python 3",
   "language": "python",
   "name": "python3"
  },
  "language_info": {
   "codemirror_mode": {
    "name": "ipython",
    "version": 3
   },
   "file_extension": ".py",
   "mimetype": "text/x-python",
   "name": "python",
   "nbconvert_exporter": "python",
   "pygments_lexer": "ipython3",
   "version": "3.10.9"
  },
  "orig_nbformat": 4
 },
 "nbformat": 4,
 "nbformat_minor": 2
}
